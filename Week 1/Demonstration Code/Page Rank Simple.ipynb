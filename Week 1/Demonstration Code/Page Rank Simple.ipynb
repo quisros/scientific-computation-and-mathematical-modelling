{
 "cells": [
  {
   "cell_type": "code",
   "execution_count": 2,
   "metadata": {},
   "outputs": [],
   "source": [
    "#importing numpy and fractions\n",
    "import numpy as np\n",
    "from fractions import Fraction\n",
    "  "
   ]
  },
  {
   "cell_type": "code",
   "execution_count": 3,
   "metadata": {},
   "outputs": [
    {
     "name": "stdout",
     "output_type": "stream",
     "text": [
      "(1, 3)\n",
      "(3, 1)\n",
      "[[0.38778971170152604]\n",
      " [0.21481062747314855]\n",
      " [0.3973996608253248]]\n"
     ]
    }
   ],
   "source": [
    "#n =number of webpages \n",
    "n = 3\n",
    "#define nxn Transfer Matrix, L\n",
    "L = np.matrix([[0,0,1],[Fraction(1,2),0,0],[Fraction(1,2),1,0]])\n",
    "const_matrix= np.zeros((3,3))\n",
    "const_matrix[:] = Fraction(1,n)\n",
    "#damping factor\n",
    "beta = 0.85\n",
    "#page_rank_mat = matrix which will be multiplied to find the page rank vector by power iteration method.\n",
    "page_rank_mat = beta * L + ((1-beta) * const_matrix)\n",
    "r = np.matrix([Fraction(1,n), Fraction(1,n), Fraction(1,n)])\n",
    "#show that r is a row vector\n",
    "print(np.shape(r))\n",
    "r = np.transpose(r)\n",
    "#show that r is now a column vector\n",
    "print(np.shape(r))\n",
    "previous_r = r\n",
    "#power iteration method to find eigen vector with eigen value 1\n",
    "for i in range(100000):\n",
    "    r = page_rank_mat * r\n",
    "    if (previous_r==r).all():\n",
    "        break\n",
    "    previous_r = r\n",
    "print (r)"
   ]
  },
  {
   "cell_type": "code",
   "execution_count": 11,
   "metadata": {},
   "outputs": [
    {
     "name": "stdout",
     "output_type": "stream",
     "text": [
      "[ 1.   +0.j    -0.425+0.425j -0.425-0.425j]\n",
      "(-0.651355682617773+0j)\n",
      "(-0.3608092702547429+0j)\n",
      "(-0.6674971499712751+0j)\n",
      "[[0.6513556826177731]\n",
      " [0.3608092702547432]\n",
      " [0.6674971499712749]]\n"
     ]
    }
   ],
   "source": [
    "eigvals, eigvecs = np.linalg.eig(np.array(page_rank_mat, dtype=float))\n",
    "print(eigvals)\n",
    "\n",
    "for i in range (3):\n",
    "    print(eigvecs[i][0])\n",
    "    \n",
    "print(r/np.linalg.norm(r))"
   ]
  },
  {
   "cell_type": "code",
   "execution_count": null,
   "metadata": {},
   "outputs": [],
   "source": []
  }
 ],
 "metadata": {
  "kernelspec": {
   "display_name": "Python 3",
   "language": "python",
   "name": "python3"
  },
  "language_info": {
   "codemirror_mode": {
    "name": "ipython",
    "version": 3
   },
   "file_extension": ".py",
   "mimetype": "text/x-python",
   "name": "python",
   "nbconvert_exporter": "python",
   "pygments_lexer": "ipython3",
   "version": "3.7.6"
  }
 },
 "nbformat": 4,
 "nbformat_minor": 4
}
