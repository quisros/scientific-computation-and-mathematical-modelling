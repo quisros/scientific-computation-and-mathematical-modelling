{
 "cells": [
  {
   "cell_type": "code",
   "execution_count": 4,
   "metadata": {},
   "outputs": [],
   "source": [
    "import pandas as pd\n",
    "import csv\n",
    "import numpy as np"
   ]
  },
  {
   "cell_type": "code",
   "execution_count": null,
   "metadata": {},
   "outputs": [],
   "source": []
  },
  {
   "cell_type": "code",
   "execution_count": 5,
   "metadata": {},
   "outputs": [
    {
     "name": "stdout",
     "output_type": "stream",
     "text": [
      "[[0.3 0.2 0.1]\n",
      " [0.2 0.1 0.3]\n",
      " [0.1 0.2 0.3]]\n",
      "[419.03409091 475.85227273 481.53409091]\n",
      "[ 0.6  0.2 -0.1]\n",
      "-0.577350269189626\n",
      "-0.5773502691896257\n",
      "-0.5773502691896256\n"
     ]
    }
   ],
   "source": [
    "\n",
    "#n = no of industries in the model\n",
    "n = 3\n",
    "leontief_matrix = np.zeros((3,3))\n",
    "with open('leontief_model.txt') as csv_file:\n",
    "    csv_reader = csv.reader(csv_file, delimiter=',')\n",
    "    i = 0\n",
    "    for row in csv_reader:\n",
    "        if(i!=0):\n",
    "            for j in range(n):\n",
    "                leontief_matrix[i-1][j] = row[j]\n",
    "        i+=1\n",
    "print(leontief_matrix)\n",
    "I = np.identity(n)\n",
    "#open system\n",
    "demand = [150,200,200]\n",
    "l_solve = I - leontief_matrix\n",
    "production_vector = np.linalg.solve(l_solve,demand)\n",
    "print(production_vector)\n",
    "\n",
    "#closed system (Note the matrix is an open system matrix, so the values will be weird when I use it as a closed system)\n",
    "eigvals, eigvecs = np.linalg.eig(leontief_matrix)\n",
    "print(eigvals)\n",
    "for i in range (3):\n",
    "    print(eigvecs[i][0])"
   ]
  },
  {
   "cell_type": "code",
   "execution_count": null,
   "metadata": {},
   "outputs": [],
   "source": []
  }
 ],
 "metadata": {
  "kernelspec": {
   "display_name": "Python 3",
   "language": "python",
   "name": "python3"
  },
  "language_info": {
   "codemirror_mode": {
    "name": "ipython",
    "version": 3
   },
   "file_extension": ".py",
   "mimetype": "text/x-python",
   "name": "python",
   "nbconvert_exporter": "python",
   "pygments_lexer": "ipython3",
   "version": "3.7.6"
  }
 },
 "nbformat": 4,
 "nbformat_minor": 4
}
