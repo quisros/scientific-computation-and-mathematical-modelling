{
 "cells": [
  {
   "cell_type": "code",
   "execution_count": null,
   "metadata": {},
   "outputs": [],
   "source": [
    "import numpy as np\n",
    "from fractions import Fraction\n",
    "def display_format(my_vector, my_decimal):\n",
    "    return np.round((my_vector).astype(np.float), decimals=my_decimal)"
   ]
  },
  {
   "cell_type": "code",
   "execution_count": null,
   "metadata": {},
   "outputs": [],
   "source": [
    "d = 0.85\n",
    "n = 4\n",
    "diff = 1.0e-6\n",
    "factor = (1-d)/n"
   ]
  },
  {
   "cell_type": "code",
   "execution_count": null,
   "metadata": {},
   "outputs": [],
   "source": [
    "my_dp = Fraction(1,n)\n",
    "Mat = np.matrix([[0,Fraction(1,2),0,0],\n",
    "[Fraction(1,3),0,0,Fraction(1,2)],\n",
    "[Fraction(1,3),0,0,Fraction(1,2)],\n",
    "[Fraction(1,3),Fraction(1,2),1,0]])"
   ]
  },
  {
   "cell_type": "code",
   "execution_count": null,
   "metadata": {},
   "outputs": [],
   "source": [
    "r = np.matrix([my_dp, my_dp, my_dp, my_dp])\n",
    "r = np.transpose(r)\n",
    "previous_r = r"
   ]
  },
  {
   "cell_type": "code",
   "execution_count": null,
   "metadata": {},
   "outputs": [],
   "source": [
    "for i in range(1,100):\n",
    "    r = d*(Mat*r) + factor\n",
    "    #print (display_format(r,3))\n",
    "    if (np.absolute(r-previous_r)).all()<diff:\n",
    "        #print(\"breaking at\",i)\n",
    "        break\n",
    "    previous_r = r\n",
    "print (\"Final:\\n\", display_format(r,3))\n",
    "print (\"sum\", np.sum(r))"
   ]
  },
  {
   "cell_type": "code",
   "execution_count": null,
   "metadata": {},
   "outputs": [],
   "source": []
  }
 ],
 "metadata": {
  "kernelspec": {
   "display_name": "Python 3",
   "language": "python",
   "name": "python3"
  },
  "language_info": {
   "codemirror_mode": {
    "name": "ipython",
    "version": 3
   },
   "file_extension": ".py",
   "mimetype": "text/x-python",
   "name": "python",
   "nbconvert_exporter": "python",
   "pygments_lexer": "ipython3",
   "version": "3.7.6"
  }
 },
 "nbformat": 4,
 "nbformat_minor": 4
}
