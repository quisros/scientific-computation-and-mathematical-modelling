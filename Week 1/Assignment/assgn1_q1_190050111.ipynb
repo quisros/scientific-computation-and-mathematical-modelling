{
 "cells": [
  {
   "cell_type": "code",
   "execution_count": 1,
   "metadata": {},
   "outputs": [],
   "source": [
    "import csv\n",
    "import numpy as np"
   ]
  },
  {
   "cell_type": "code",
   "execution_count": 2,
   "metadata": {},
   "outputs": [
    {
     "name": "stdout",
     "output_type": "stream",
     "text": [
      "[[0.1  0.05 0.3  0.2 ]\n",
      " [0.15 0.25 0.05 0.1 ]\n",
      " [0.3  0.1  0.1  0.25]\n",
      " [0.15 0.2  0.1  0.2 ]]\n"
     ]
    }
   ],
   "source": [
    "#n = no of industries in the model\n",
    "n = 4\n",
    "leontief_matrix = np.zeros((4,4))\n",
    "with open('leontief_data.txt') as csv_file:\n",
    "    csv_reader = csv.reader(csv_file, delimiter=',')\n",
    "    i = 0\n",
    "    for row in csv_reader:\n",
    "        if(i!=0):\n",
    "            for j in range(n):\n",
    "                leontief_matrix[i-1][j] = row[j]\n",
    "        i+=1\n",
    "print(leontief_matrix)"
   ]
  },
  {
   "cell_type": "code",
   "execution_count": 5,
   "metadata": {},
   "outputs": [
    {
     "name": "stdout",
     "output_type": "stream",
     "text": [
      "[ 85580.99  50622.98  96157.86 103221.91]\n"
     ]
    }
   ],
   "source": [
    "I = np.identity(n)\n",
    "#as this is an open system\n",
    "demand = [25000,10000,30000,50000]\n",
    "l_solve = I - leontief_matrix\n",
    "production_vector = np.linalg.solve(l_solve,demand)\n",
    "print(np.round(production_vector,decimals=2))"
   ]
  },
  {
   "cell_type": "code",
   "execution_count": null,
   "metadata": {},
   "outputs": [],
   "source": []
  }
 ],
 "metadata": {
  "kernelspec": {
   "display_name": "Python 3",
   "language": "python",
   "name": "python3"
  },
  "language_info": {
   "codemirror_mode": {
    "name": "ipython",
    "version": 3
   },
   "file_extension": ".py",
   "mimetype": "text/x-python",
   "name": "python",
   "nbconvert_exporter": "python",
   "pygments_lexer": "ipython3",
   "version": "3.7.6"
  }
 },
 "nbformat": 4,
 "nbformat_minor": 4
}
