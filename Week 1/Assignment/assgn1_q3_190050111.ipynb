{
 "cells": [
  {
   "cell_type": "code",
   "execution_count": null,
   "metadata": {},
   "outputs": [],
   "source": [
    "import numpy as np\n",
    "from fractions import Fraction\n",
    "def display_format(my_vector, my_decimal):\n",
    "    return np.round((my_vector).astype(np.float), decimals=my_decimal)\n",
    "def fract_format(my_fract, my_decimal):\n",
    "    return np.round(float(my_fract), decimals=my_decimal)"
   ]
  },
  {
   "cell_type": "code",
   "execution_count": null,
   "metadata": {},
   "outputs": [],
   "source": [
    "n = 5\n",
    "diff = 1.0e-6\n",
    "my_dp = Fraction(1,n)\n",
    "cities = np.matrix(['Paris','Berlin','Chicago','New York','London'])\n",
    "cities = np.transpose(cities)"
   ]
  },
  {
   "cell_type": "code",
   "execution_count": null,
   "metadata": {},
   "outputs": [],
   "source": [
    "Mat = np.matrix([[0,Fraction(1,3),Fraction(1,3),0,Fraction(1,4)],\n",
    "[Fraction(1,3),0,0,Fraction(1,3),Fraction(1,4)],\n",
    "[0,Fraction(1,3),0,Fraction(1,3),Fraction(1,4)],\n",
    "[Fraction(1,3),0,Fraction(1,3),0,Fraction(1,4)],\n",
    "[Fraction(1,3),Fraction(1,3),Fraction(1,3),Fraction(1,3),0]])"
   ]
  },
  {
   "cell_type": "code",
   "execution_count": null,
   "metadata": {},
   "outputs": [],
   "source": [
    "r = np.matrix([my_dp, my_dp, my_dp, my_dp, my_dp])\n",
    "r = np.transpose(r)\n",
    "previous_r = r"
   ]
  },
  {
   "cell_type": "code",
   "execution_count": null,
   "metadata": {},
   "outputs": [],
   "source": [
    "for i in range(1,100):\n",
    "    r = Mat*r\n",
    "    #print (display_format(r,3))\n",
    "    if (np.absolute(r-previous_r)).all()<diff:\n",
    "        #print(\"breaking at\",i)\n",
    "        break\n",
    "    previous_r = r\n",
    "print (\"Final r:\\n\", display_format(r,3))\n",
    "print (\"sum\", np.sum(r))"
   ]
  },
  {
   "cell_type": "code",
   "execution_count": null,
   "metadata": {},
   "outputs": [],
   "source": [
    "newC = cities.A1\n",
    "newR = r.A1\n",
    "ranks = dict()\n",
    "for i in range(n):\n",
    "    ranks[newC[i]]= ranks.get(newC[i],0)+newR[i]"
   ]
  },
  {
   "cell_type": "code",
   "execution_count": null,
   "metadata": {},
   "outputs": [],
   "source": [
    "listofTuples = sorted(ranks.items() , reverse=True, key=lambda x: x[1])\n",
    "# Iterate over the sorted sequence\n",
    "for elem in listofTuples :\n",
    "    print(elem[0] , \"::\" , fract_format(elem[1],3) )   "
   ]
  },
  {
   "cell_type": "code",
   "execution_count": null,
   "metadata": {},
   "outputs": [],
   "source": []
  }
 ],
 "metadata": {
  "kernelspec": {
   "display_name": "Python 3",
   "language": "python",
   "name": "python3"
  },
  "language_info": {
   "codemirror_mode": {
    "name": "ipython",
    "version": 3
   },
   "file_extension": ".py",
   "mimetype": "text/x-python",
   "name": "python",
   "nbconvert_exporter": "python",
   "pygments_lexer": "ipython3",
   "version": "3.7.6"
  }
 },
 "nbformat": 4,
 "nbformat_minor": 4
}
