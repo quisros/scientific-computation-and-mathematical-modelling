{
 "cells": [
  {
   "cell_type": "code",
   "execution_count": null,
   "metadata": {},
   "outputs": [],
   "source": [
    "%matplotlib notebook\n",
    "import numpy as np\n",
    "import matplotlib.pyplot as plt\n",
    "from matplotlib.animation import FuncAnimation\n",
    "\n",
    "n = 7\n",
    "#initialising the board\n",
    "board = np.random.randint(2, size=(n,n))\n",
    "\n",
    "fig, ax = plt.subplots()\n",
    "im = plt.imshow(board, animated = True)\n",
    "\n",
    "#generating the initial position of the ant at random\n",
    "position = np.random.randint(0,high=n,size=2)\n",
    "\n",
    "#generating the initial direction of the ant at random\n",
    "#0-up, 1-right, 2-down, 3-left\n",
    "direction = np.random.randint(0,high=4)\n",
    "\n",
    "#creating a movement function for the ant\n",
    "def movement(direction, position, n):\n",
    "    if direction==0:\n",
    "        position[0]=(position[0]-1)%n\n",
    "    elif direction==1:\n",
    "        position[1]=(position[1]+1)%n\n",
    "    elif direction==2:\n",
    "        position[0]=(position[0]+1)%n\n",
    "    elif direction==3:\n",
    "        position[1]=(position[1]-1)%n\n",
    "    return position\n",
    "\n",
    "#animate function for the ant\n",
    "def antimate(i):\n",
    "    global board, n, position, direction\n",
    "    \n",
    "    #changing the ant's direction acc to the current square's color\n",
    "    #and then changing the current square's color before it moves\n",
    "    crcolor = board[position[0]][position[1]]\n",
    "    if crcolor == 0:\n",
    "        direction = (direction+1)%4\n",
    "        board[position[0]][position[1]]=1\n",
    "    elif crcolor == 1:\n",
    "        direction = (direction-1)%4\n",
    "        board[position[0]][position[1]]=0\n",
    "    \n",
    "    #changing the ant's position\n",
    "    position = movement(direction, position, n)\n",
    "       \n",
    "    im.set_array(board)\n",
    "    return im,\n",
    "\n",
    "animation = FuncAnimation(fig, antimate,frames = 200, blit = True)\n",
    "plt.show()"
   ]
  },
  {
   "cell_type": "code",
   "execution_count": null,
   "metadata": {},
   "outputs": [],
   "source": []
  }
 ],
 "metadata": {
  "kernelspec": {
   "display_name": "Python 3",
   "language": "python",
   "name": "python3"
  },
  "language_info": {
   "codemirror_mode": {
    "name": "ipython",
    "version": 3
   },
   "file_extension": ".py",
   "mimetype": "text/x-python",
   "name": "python",
   "nbconvert_exporter": "python",
   "pygments_lexer": "ipython3",
   "version": "3.7.6"
  }
 },
 "nbformat": 4,
 "nbformat_minor": 4
}
