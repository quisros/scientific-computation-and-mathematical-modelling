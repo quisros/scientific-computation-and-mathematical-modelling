{
 "cells": [
  {
   "cell_type": "code",
   "execution_count": null,
   "metadata": {},
   "outputs": [],
   "source": [
    "%matplotlib notebook\n",
    "import numpy as np\n",
    "import matplotlib.pyplot as plt\n",
    "from matplotlib.animation import FuncAnimation\n",
    "\n",
    "n = 6\n",
    "#initialising for toad design generation\n",
    "board = np.array([[0,0,0,0,0,0],\n",
    "                  [0,0,0,0,0,0],\n",
    "                  [0,0,1,1,1,0],\n",
    "                  [0,1,1,1,0,0],\n",
    "                  [0,0,0,0,0,0],\n",
    "                  [0,0,0,0,0,0]])\n",
    "\n",
    "fig, ax = plt.subplots()\n",
    "im = plt.imshow(board, animated = True)\n",
    "\n",
    "def animate(i):\n",
    "    global board,n\n",
    "    nbr = np.zeros((n,n))\n",
    "    for i in range (n):\n",
    "         for j in range(n):\n",
    "            for k in range(-1,2):\n",
    "                for l in range (-1,2):\n",
    "                        if(k==0 and l ==0):\n",
    "                            continue\n",
    "                        if((i+k)<0 or (i+k)==np.shape(board)[0]):\n",
    "                            continue\n",
    "                        if((j+l)<0 or (j+l)== n):\n",
    "                            continue\n",
    "                        if(board[i+k][j+l]==1):\n",
    "                            nbr[i][j]+=1\n",
    "                        \n",
    "    for p in range(n):\n",
    "        for q in range(n):\n",
    "            if(nbr[p][q]==3):\n",
    "                board[p][q] = 1\n",
    "            elif(nbr[p][q]==2 and board[p][q]==1):\n",
    "                board[p][q] = 1\n",
    "            else:\n",
    "                board[p][q] = 0          \n",
    "             \n",
    "       \n",
    "    \n",
    "    im.set_array(board)\n",
    "    return im,\n",
    "\n",
    "animation = FuncAnimation(fig, animate,frames = 200, blit = True)\n",
    "plt.show()"
   ]
  },
  {
   "cell_type": "code",
   "execution_count": null,
   "metadata": {},
   "outputs": [],
   "source": []
  }
 ],
 "metadata": {
  "kernelspec": {
   "display_name": "Python 3",
   "language": "python",
   "name": "python3"
  },
  "language_info": {
   "codemirror_mode": {
    "name": "ipython",
    "version": 3
   },
   "file_extension": ".py",
   "mimetype": "text/x-python",
   "name": "python",
   "nbconvert_exporter": "python",
   "pygments_lexer": "ipython3",
   "version": "3.7.6"
  }
 },
 "nbformat": 4,
 "nbformat_minor": 4
}
